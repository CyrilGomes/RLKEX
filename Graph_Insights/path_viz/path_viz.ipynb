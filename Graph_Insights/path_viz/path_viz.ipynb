{
 "cells": [
  {
   "cell_type": "code",
   "execution_count": 2,
   "metadata": {},
   "outputs": [],
   "source": [
    "import networkx as nx\n",
    "from pyvis.network import Network\n",
    "import random\n",
    "import os"
   ]
  },
  {
   "cell_type": "code",
   "execution_count": 18,
   "metadata": {},
   "outputs": [],
   "source": [
    "\n",
    "def load_random_graph(directory):\n",
    "    files = [file for file in os.listdir(directory) if file.endswith('.graphml')] # or other format\n",
    "    random_file = random.choice(files)\n",
    "    path = os.path.join(directory, random_file)\n",
    "    print(f'Loading graph from {path}')\n",
    "    return nx.read_graphml(path)  # Change this according to your graph format\n",
    "\n",
    "def get_root_nodes(G):\n",
    "    return [n for n, d in G.in_degree() if d == 0]\n",
    "\n",
    "def plot_graph(G, root_nodes):\n",
    "    net = Network(height='750px', width='100%', bgcolor='#222222', font_color='white', notebook=True)\n",
    "\n",
    "    # Add nodes and edges\n",
    "    for node in G.nodes:\n",
    "        net.add_node(node, label=str(node), title=str(node))\n",
    "\n",
    "    for edge in G.edges:\n",
    "        net.add_edge(edge[0], edge[1])\n",
    "\n",
    "    # Set options for nodes\n",
    "    for node in root_nodes:\n",
    "        net.get_node(node)['color'] = 'red'\n",
    "\n",
    "    # Generate network with specific layout\n",
    "    net.from_nx(G)\n",
    "    net.show('graph.html')\n",
    "\n",
    "def get_target_nodes(root, G):\n",
    "    target_nodes = [node for node, attributes in G.nodes(data=True) if attributes['cat'] == '1']\n",
    "    return target_nodes"
   ]
  },
  {
   "cell_type": "code",
   "execution_count": 10,
   "metadata": {},
   "outputs": [],
   "source": [
    "directory = '/home/cyril/ssh-rlkex/Generated_Graphs/output'\n",
    "\n",
    "#root_nodes = get_root_nodes(G)\n",
    "#plot_graph(G, root_nodes)\n"
   ]
  },
  {
   "cell_type": "code",
   "execution_count": 19,
   "metadata": {},
   "outputs": [
    {
     "name": "stdout",
     "output_type": "stream",
     "text": [
      "Loading graph from /home/cyril/ssh-rlkex/Generated_Graphs/output/21208-1643986141.graphml\n",
      "Root nodes:  ['n856', 'n858', 'n859', 'n862', 'n865', 'n867', 'n869', 'n872', 'n874', 'n877', 'n880', 'n887', 'n890', 'n893', 'n895', 'n898', 'n900', 'n902', 'n905', 'n909', 'n913', 'n921', 'n924', 'n927', 'n929', 'n1939', 'n1957', 'n1958', 'n1990', 'n1992', 'n2233', 'n2234', 'n2235', 'n2278', 'n2279', 'n2283', 'n2285', 'n2287', 'n2292', 'n2295', 'n2298', 'n2300', 'n2332', 'n2334', 'n2336', 'n2337', 'n2339', 'n2342', 'n2345', 'n2346', 'n2354', 'n2360', 'n2367', 'n2368', 'n2441', 'n2442', 'n2462', 'n2463', 'n2464', 'n2465', 'n2466', 'n2469', 'n2470', 'n2471', 'n2472', 'n2473', 'n2474', 'n2475', 'n2515', 'n2516', 'n2581', 'n2649', 'n2650', 'n2651', 'n2663', 'n2676', 'n2678', 'n2680', 'n2681', 'n2682', 'n2683', 'n2684', 'n2703']\n",
      "Target nodes:  ['n2476', 'n2496']\n",
      "Computing shortest path between n856 and n2476\n"
     ]
    },
    {
     "ename": "NetworkXNoPath",
     "evalue": "No path between n856 and n2476.",
     "output_type": "error",
     "traceback": [
      "\u001b[0;31m---------------------------------------------------------------------------\u001b[0m",
      "\u001b[0;31mNetworkXNoPath\u001b[0m                            Traceback (most recent call last)",
      "Cell \u001b[0;32mIn[19], line 13\u001b[0m\n\u001b[1;32m     11\u001b[0m     \u001b[38;5;28;01mfor\u001b[39;00m target \u001b[38;5;129;01min\u001b[39;00m target_nodes:\n\u001b[1;32m     12\u001b[0m         \u001b[38;5;28mprint\u001b[39m(\u001b[38;5;124mf\u001b[39m\u001b[38;5;124m'\u001b[39m\u001b[38;5;124mComputing shortest path between \u001b[39m\u001b[38;5;132;01m{\u001b[39;00mroot\u001b[38;5;132;01m}\u001b[39;00m\u001b[38;5;124m and \u001b[39m\u001b[38;5;132;01m{\u001b[39;00mtarget\u001b[38;5;132;01m}\u001b[39;00m\u001b[38;5;124m'\u001b[39m)\n\u001b[0;32m---> 13\u001b[0m         path \u001b[38;5;241m=\u001b[39m \u001b[43mnx\u001b[49m\u001b[38;5;241;43m.\u001b[39;49m\u001b[43mshortest_path\u001b[49m\u001b[43m(\u001b[49m\u001b[43mG\u001b[49m\u001b[43m,\u001b[49m\u001b[43m \u001b[49m\u001b[43mroot\u001b[49m\u001b[43m,\u001b[49m\u001b[43m \u001b[49m\u001b[43mtarget\u001b[49m\u001b[43m)\u001b[49m\n\u001b[1;32m     14\u001b[0m         nodes_to_keep\u001b[38;5;241m.\u001b[39mextend(path)\n\u001b[1;32m     15\u001b[0m G \u001b[38;5;241m=\u001b[39m G\u001b[38;5;241m.\u001b[39msubgraph(nodes_to_keep)\n",
      "File \u001b[0;32m~/anaconda3/envs/PhD-Track/lib/python3.9/site-packages/networkx/algorithms/shortest_paths/generic.py:165\u001b[0m, in \u001b[0;36mshortest_path\u001b[0;34m(G, source, target, weight, method)\u001b[0m\n\u001b[1;32m    162\u001b[0m \u001b[38;5;28;01melse\u001b[39;00m:\n\u001b[1;32m    163\u001b[0m     \u001b[38;5;66;03m# Find shortest source-target path.\u001b[39;00m\n\u001b[1;32m    164\u001b[0m     \u001b[38;5;28;01mif\u001b[39;00m method \u001b[38;5;241m==\u001b[39m \u001b[38;5;124m\"\u001b[39m\u001b[38;5;124munweighted\u001b[39m\u001b[38;5;124m\"\u001b[39m:\n\u001b[0;32m--> 165\u001b[0m         paths \u001b[38;5;241m=\u001b[39m \u001b[43mnx\u001b[49m\u001b[38;5;241;43m.\u001b[39;49m\u001b[43mbidirectional_shortest_path\u001b[49m\u001b[43m(\u001b[49m\u001b[43mG\u001b[49m\u001b[43m,\u001b[49m\u001b[43m \u001b[49m\u001b[43msource\u001b[49m\u001b[43m,\u001b[49m\u001b[43m \u001b[49m\u001b[43mtarget\u001b[49m\u001b[43m)\u001b[49m\n\u001b[1;32m    166\u001b[0m     \u001b[38;5;28;01melif\u001b[39;00m method \u001b[38;5;241m==\u001b[39m \u001b[38;5;124m\"\u001b[39m\u001b[38;5;124mdijkstra\u001b[39m\u001b[38;5;124m\"\u001b[39m:\n\u001b[1;32m    167\u001b[0m         _, paths \u001b[38;5;241m=\u001b[39m nx\u001b[38;5;241m.\u001b[39mbidirectional_dijkstra(G, source, target, weight)\n",
      "File \u001b[0;32m~/anaconda3/envs/PhD-Track/lib/python3.9/site-packages/networkx/algorithms/shortest_paths/unweighted.py:224\u001b[0m, in \u001b[0;36mbidirectional_shortest_path\u001b[0;34m(G, source, target)\u001b[0m\n\u001b[1;32m    221\u001b[0m     \u001b[38;5;28;01mraise\u001b[39;00m nx\u001b[38;5;241m.\u001b[39mNodeNotFound(msg)\n\u001b[1;32m    223\u001b[0m \u001b[38;5;66;03m# call helper to do the real work\u001b[39;00m\n\u001b[0;32m--> 224\u001b[0m results \u001b[38;5;241m=\u001b[39m \u001b[43m_bidirectional_pred_succ\u001b[49m\u001b[43m(\u001b[49m\u001b[43mG\u001b[49m\u001b[43m,\u001b[49m\u001b[43m \u001b[49m\u001b[43msource\u001b[49m\u001b[43m,\u001b[49m\u001b[43m \u001b[49m\u001b[43mtarget\u001b[49m\u001b[43m)\u001b[49m\n\u001b[1;32m    225\u001b[0m pred, succ, w \u001b[38;5;241m=\u001b[39m results\n\u001b[1;32m    227\u001b[0m \u001b[38;5;66;03m# build path from pred+w+succ\u001b[39;00m\n",
      "File \u001b[0;32m~/anaconda3/envs/PhD-Track/lib/python3.9/site-packages/networkx/algorithms/shortest_paths/unweighted.py:292\u001b[0m, in \u001b[0;36m_bidirectional_pred_succ\u001b[0;34m(G, source, target)\u001b[0m\n\u001b[1;32m    289\u001b[0m                 \u001b[38;5;28;01mif\u001b[39;00m w \u001b[38;5;129;01min\u001b[39;00m pred:  \u001b[38;5;66;03m# found path\u001b[39;00m\n\u001b[1;32m    290\u001b[0m                     \u001b[38;5;28;01mreturn\u001b[39;00m pred, succ, w\n\u001b[0;32m--> 292\u001b[0m \u001b[38;5;28;01mraise\u001b[39;00m nx\u001b[38;5;241m.\u001b[39mNetworkXNoPath(\u001b[38;5;124mf\u001b[39m\u001b[38;5;124m\"\u001b[39m\u001b[38;5;124mNo path between \u001b[39m\u001b[38;5;132;01m{\u001b[39;00msource\u001b[38;5;132;01m}\u001b[39;00m\u001b[38;5;124m and \u001b[39m\u001b[38;5;132;01m{\u001b[39;00mtarget\u001b[38;5;132;01m}\u001b[39;00m\u001b[38;5;124m.\u001b[39m\u001b[38;5;124m\"\u001b[39m)\n",
      "\u001b[0;31mNetworkXNoPath\u001b[0m: No path between n856 and n2476."
     ]
    }
   ],
   "source": [
    "import json\n",
    "G = load_random_graph(directory)\n",
    "nb_nodes_before = len(G.nodes)\n",
    "# take all root nodes and the targets, and only keep the nodes that are on the path between them\n",
    "root_nodes = get_root_nodes(G)\n",
    "target_nodes = get_target_nodes(root_nodes, G)\n",
    "print('Root nodes: ', root_nodes)\n",
    "print('Target nodes: ', target_nodes)\n",
    "nodes_to_keep = []\n",
    "for root in root_nodes:\n",
    "    for target in target_nodes:\n",
    "        print(f'Computing shortest path between {root} and {target}')\n",
    "        path = nx.shortest_path(G, root, target)\n",
    "        nodes_to_keep.extend(path)\n",
    "G = G.subgraph(nodes_to_keep)\n",
    "\n",
    "#print number of kept nodes over total number of nodes\n",
    "print('Kept nodes: ', len(nodes_to_keep))\n",
    "print('Total nodes: ', nb_nodes_before)\n",
    "\n",
    "\n",
    "# Convert the graph to a format that Cytoscape.js can understand\n",
    "cytoscape_json = nx.cytoscape_data(G)['elements']\n",
    "\n",
    "# Save the graph data to a JSON file\n",
    "with open('graph_data.json', 'w') as f:\n",
    "    json.dump(cytoscape_json, f)"
   ]
  }
 ],
 "metadata": {
  "kernelspec": {
   "display_name": "PhD-Track",
   "language": "python",
   "name": "python3"
  },
  "language_info": {
   "codemirror_mode": {
    "name": "ipython",
    "version": 3
   },
   "file_extension": ".py",
   "mimetype": "text/x-python",
   "name": "python",
   "nbconvert_exporter": "python",
   "pygments_lexer": "ipython3",
   "version": "3.9.16"
  }
 },
 "nbformat": 4,
 "nbformat_minor": 2
}
