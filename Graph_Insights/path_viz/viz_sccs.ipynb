{
 "cells": [
  {
   "cell_type": "code",
   "execution_count": 30,
   "metadata": {},
   "outputs": [],
   "source": [
    "import networkx as nx\n",
    "from pyvis.network import Network\n",
    "import random\n",
    "import os"
   ]
  },
  {
   "cell_type": "code",
   "execution_count": 31,
   "metadata": {},
   "outputs": [],
   "source": [
    "\n",
    "def load_random_graph(directory):\n",
    "    files = [file for file in os.listdir(directory) if file.endswith('.graphml')] # or other format\n",
    "    random_file = random.choice(files)\n",
    "    path = os.path.join(directory, random_file)\n",
    "    print(f'Loading graph from {path}')\n",
    "    return nx.read_graphml(path)  # Change this according to your graph format\n",
    "\n",
    "def get_root_nodes(G):\n",
    "    return [n for n, d in G.in_degree() if d == 0]\n",
    "\n",
    "def plot_graph_with_sccs(G, sccs):\n",
    "    net = Network(height='750px', width='100%', bgcolor='#222222', font_color='white', notebook=True)\n",
    "\n",
    "    # Add nodes and edges\n",
    "    for node in G.nodes:\n",
    "        net.add_node(node, label=str(node), title=str(node))\n",
    "\n",
    "    for edge in G.edges:\n",
    "        net.add_edge(edge[0], edge[1])\n",
    "\n",
    "    #loop over all sccs, select a unique color for each scc and color the nodes in the scc\n",
    "    colors = ['#'+str(hex(random.randint(0, 16777215)))[2:] for i in range(len(sccs))]\n",
    "    for i, scc in enumerate(sccs):\n",
    "        for node in scc:\n",
    "            net.get_node(node)['color'] = colors[i]\n",
    "            \n",
    "\n",
    "\n",
    "    # Generate network with specific layout\n",
    "    net.from_nx(G)\n",
    "    net.show('graph_viz_sccs.html')\n",
    "\n",
    "def plot_graph_with_roots(G, roots):\n",
    "    net = Network(height='750px', width='100%', bgcolor='#222222', font_color='white', notebook=True)\n",
    "\n",
    "    # Add nodes and edges\n",
    "    for node in G.nodes:\n",
    "        net.add_node(node, label=str(node), title=str(node))\n",
    "\n",
    "    for edge in G.edges:\n",
    "        net.add_edge(edge[0], edge[1])\n",
    "\n",
    "    for node in roots:\n",
    "        net.get_node(node)['color'] = 'red'\n",
    "            \n",
    "    # Targets\n",
    "    for node, attributes in G.nodes(data=True):\n",
    "        if attributes['cat'] == '1':\n",
    "            net.get_node(node)['color'] = 'green'\n",
    "\n",
    "    # Generate network with specific layout\n",
    "    net.from_nx(G)\n",
    "    net.show('graph_viz_sccs.html')\n",
    "\n",
    "def get_target_nodes(root, G):\n",
    "    target_nodes = [node for node, attributes in G.nodes(data=True) if attributes['cat'] == '1']\n",
    "    return target_nodes\n",
    "\n",
    "\n",
    "\n"
   ]
  },
  {
   "cell_type": "code",
   "execution_count": 32,
   "metadata": {},
   "outputs": [
    {
     "name": "stdout",
     "output_type": "stream",
     "text": [
      "Loading graph from /home/cyril/ssh-rlkex/Generated_Graphs/output/basic/V_6_8_P1/24/28017-1643890740.graphml\n"
     ]
    }
   ],
   "source": [
    "directory = '/home/cyril/ssh-rlkex/Generated_Graphs/output/basic/V_6_8_P1/24'\n",
    "G = load_random_graph(directory)\n",
    "#compute all sccs\n",
    "sccs = list(nx.strongly_connected_components(G))\n",
    "\n"
   ]
  },
  {
   "cell_type": "code",
   "execution_count": 33,
   "metadata": {},
   "outputs": [
    {
     "name": "stdout",
     "output_type": "stream",
     "text": [
      "Cycles detected\n"
     ]
    }
   ],
   "source": [
    "#Detect if there are any cycles\n",
    "if len(sccs) == len(G.nodes):\n",
    "    print(\"No cycles detected\")\n",
    "else:\n",
    "    print(\"Cycles detected\")"
   ]
  },
  {
   "cell_type": "code",
   "execution_count": 34,
   "metadata": {},
   "outputs": [
    {
     "name": "stdout",
     "output_type": "stream",
     "text": [
      "Number of nodes in the graph: 897\n",
      "Number of nodes in the sccs: 897\n",
      "Number of SCCs: 786\n"
     ]
    }
   ],
   "source": [
    "#Compare the number of nodes in the sccs with the number of nodes in the graph\n",
    "scc_nodes = [node for scc in sccs for node in scc]\n",
    "print(f'Number of nodes in the graph: {len(G.nodes)}')\n",
    "print(f'Number of nodes in the sccs: {len(scc_nodes)}')\n",
    "print(f'Number of SCCs: {len(sccs)}')"
   ]
  },
  {
   "cell_type": "code",
   "execution_count": 35,
   "metadata": {},
   "outputs": [
    {
     "name": "stdout",
     "output_type": "stream",
     "text": [
      "['n23', 'n92', 'n86', 'n5', 'n12', 'n20', 'n392', 'n56', 'n57', 'n243', 'n232', 'n61', 'n43', 'n91', 'n82', 'n401', 'n250', 'n8', 'n231', 'n397', 'n25', 'n236', 'n32', 'n242', 'n31', 'n78', 'n7', 'n244', 'n44', 'n3', 'n230', 'n58', 'n83', 'n37', 'n241', 'n229', 'n247', 'n54', 'n240', 'n98', 'n79', 'n13', 'n245', 'n400', 'n81', 'n29', 'n60', 'n18', 'n94', 'n24', 'n97', 'n395', 'n36', 'n48', 'n59', 'n62', 'n50', 'n17', 'n88', 'n95', 'n34', 'n403', 'n2', 'n234', 'n55', 'n26', 'n15', 'n6', 'n19', 'n14', 'n238', 'n399', 'n33', 'n16', 'n1', 'n80', 'n248', 'n0', 'n396', 'n398', 'n239', 'n87', 'n10', 'n45', 'n47', 'n246', 'n90', 'n35', 'n11', 'n89', 'n9', 'n249', 'n84', 'n49', 'n96', 'n4', 'n93', 'n237', 'n85', 'n63', 'n391', 'n233', 'n27', 'n30', 'n402', 'n51', 'n235', 'n46', 'n28', 'n404', 'n405', 'n406', 'n407', 'n408', 'n409', 'n410', 'n411', 'n412', 'n413', 'n414', 'n415', 'n416', 'n417', 'n418', 'n419', 'n420', 'n421', 'n422', 'n423', 'n424', 'n425', 'n426', 'n427', 'n428', 'n429', 'n710', 'n718', 'n720', 'n721', 'n722', 'n723', 'n724', 'n725', 'n731', 'n735', 'n753', 'n755', 'n761', 'n771', 'n796', 'n798', 'n801', 'n802', 'n803', 'n804', 'n805', 'n844', 'n845', 'n846', 'n847', 'n848', 'n849', 'n850', 'n851', 'n853', 'n854', 'n858', 'n883', 'n881', 'n891', 'n892', 'n893', 'n894', 'n895', 'n896']\n",
      "Warning: When  cdn_resources is 'local' jupyter notebook has issues displaying graphics on chrome/safari. Use cdn_resources='in_line' or cdn_resources='remote' if you have issues viewing graphics in a notebook.\n",
      "graph_viz_sccs.html\n"
     ]
    }
   ],
   "source": [
    "#For each scc, check if it contains a node with no incoming edges to the scc\n",
    "#this node is the root node of the scc\n",
    "\n",
    "def get_root_nodes_from_scc(sccs, G):\n",
    "    \"\"\"If we consider each scc as a node, then we want to get the sccs that have no incoming edges.\"\"\"\n",
    "    root_nodes = []\n",
    "    for scc in sccs:\n",
    "        for node in scc:\n",
    "            if len([n for n in G.predecessors(node) if n not in scc]) == 0:\n",
    "                #append the first node of the scc that has no incoming edges\n",
    "                #transform the scc to list\n",
    "                root_nodes.extend(list(scc))\n",
    "                break\n",
    "    return root_nodes\n",
    "\n",
    "root_nodes = get_root_nodes_from_scc(sccs, G)\n",
    "print(root_nodes)\n",
    "plot_graph_with_roots(G, root_nodes)"
   ]
  },
  {
   "cell_type": "code",
   "execution_count": 36,
   "metadata": {},
   "outputs": [
    {
     "name": "stdout",
     "output_type": "stream",
     "text": [
      "Number of reachable nodes: 897\n",
      "Number of nodes in the graph: 897\n"
     ]
    }
   ],
   "source": [
    "#Loop over all root nodes and make sure that every possible nodes from the graph, not just targets, is reachable from at least one root node\n",
    "#If there is a node that is not reachable from any root node, then there is a problem\n",
    "\n",
    "nb_of_reachable_nodes = 0\n",
    "\n",
    "#loop over all roots, do a bfs from each root and mark all visited nodes, then sum the number of visited nodes\n",
    "visited_nodes = {}\n",
    "for root in root_nodes:\n",
    "    visited_nodes[root] = True\n",
    "    for node in nx.bfs_tree(G, root).nodes:\n",
    "        visited_nodes[node] = True\n",
    "\n",
    "nb_of_reachable_nodes = len(visited_nodes)\n",
    "print(f'Number of reachable nodes: {nb_of_reachable_nodes}')\n",
    "print(f'Number of nodes in the graph: {len(G.nodes)}')\n"
   ]
  },
  {
   "cell_type": "code",
   "execution_count": 37,
   "metadata": {},
   "outputs": [
    {
     "name": "stdout",
     "output_type": "stream",
     "text": [
      "Root n883 has 6 reachable targets\n",
      "Root n881 has 6 reachable targets\n",
      "Total number of reachable targets: 12\n",
      "Total number of targets: 6\n",
      "Number of root nodes that reach at least one target: 2\n"
     ]
    }
   ],
   "source": [
    "#for all roots, get the number of reachable targets\n",
    "target_nodes = get_target_nodes(root_nodes, G)\n",
    "nb_of_reachable_targets = {}\n",
    "for root in root_nodes:\n",
    "    nb_of_reachable_targets[root] = 0\n",
    "    for node in nx.bfs_tree(G, root).nodes:\n",
    "        if node in target_nodes:\n",
    "            nb_of_reachable_targets[root] += 1\n",
    "            \n",
    "#print all roots with non zero number of reachable targets\n",
    "for root in root_nodes:\n",
    "    if nb_of_reachable_targets[root] > 0:\n",
    "        print(f'Root {root} has {nb_of_reachable_targets[root]} reachable targets')\n",
    "#print the total number of reachable targets\n",
    "print(f'Total number of reachable targets: {sum(nb_of_reachable_targets.values())}')\n",
    "#print the total number of targets\n",
    "print(f'Total number of targets: {len(target_nodes)}')\n",
    "#print the number of root nodes that reach at least one target\n",
    "print(f'Number of root nodes that reach at least one target: {len([root for root in root_nodes if nb_of_reachable_targets[root] > 0])}')\n",
    "\n"
   ]
  },
  {
   "cell_type": "code",
   "execution_count": 28,
   "metadata": {},
   "outputs": [
    {
     "name": "stdout",
     "output_type": "stream",
     "text": [
      "Warning: When  cdn_resources is 'local' jupyter notebook has issues displaying graphics on chrome/safari. Use cdn_resources='in_line' or cdn_resources='remote' if you have issues viewing graphics in a notebook.\n",
      "graph_viz_sccs.html\n"
     ]
    }
   ],
   "source": [
    "plot_graph_with_sccs(G, sccs)"
   ]
  },
  {
   "cell_type": "code",
   "execution_count": 38,
   "metadata": {},
   "outputs": [
    {
     "name": "stdout",
     "output_type": "stream",
     "text": [
      "Warning: When  cdn_resources is 'local' jupyter notebook has issues displaying graphics on chrome/safari. Use cdn_resources='in_line' or cdn_resources='remote' if you have issues viewing graphics in a notebook.\n",
      "graph_viz_sccs.html\n"
     ]
    }
   ],
   "source": [
    "plot_graph_with_roots(G, root_nodes)"
   ]
  },
  {
   "cell_type": "code",
   "execution_count": 11,
   "metadata": {},
   "outputs": [
    {
     "name": "stdout",
     "output_type": "stream",
     "text": [
      "Loading graph from /home/cyril/ssh-rlkex/Generated_Graphs/output/basic/V_6_8_P1/24/28757-1643890740.graphml\n",
      "Root nodes:  ['n0', 'n404', 'n405', 'n406', 'n407', 'n408', 'n409', 'n410', 'n411', 'n412', 'n413', 'n414', 'n415', 'n416', 'n417', 'n418', 'n419', 'n420', 'n421', 'n422', 'n423', 'n424', 'n425', 'n426', 'n427', 'n428', 'n429', 'n700', 'n704', 'n708', 'n709', 'n710', 'n718', 'n719', 'n720', 'n721', 'n722', 'n723', 'n729', 'n733', 'n751', 'n753', 'n759', 'n769', 'n794', 'n796', 'n799', 'n800', 'n801', 'n802', 'n803', 'n842', 'n843', 'n844', 'n845', 'n846', 'n847', 'n848', 'n849', 'n850', 'n851', 'n852', 'n856', 'n857', 'n858', 'n859', 'n861', 'n863', 'n865', 'n867', 'n872', 'n879', 'n888', 'n889', 'n890', 'n891', 'n892', 'n893']\n",
      "Target nodes:  ['n868', 'n869', 'n870', 'n873', 'n874', 'n876']\n",
      "Computing shortest path between n0 and n868\n"
     ]
    },
    {
     "ename": "NetworkXNoPath",
     "evalue": "No path between n0 and n868.",
     "output_type": "error",
     "traceback": [
      "\u001b[0;31m---------------------------------------------------------------------------\u001b[0m",
      "\u001b[0;31mNetworkXNoPath\u001b[0m                            Traceback (most recent call last)",
      "Cell \u001b[0;32mIn[11], line 13\u001b[0m\n\u001b[1;32m     11\u001b[0m     \u001b[38;5;28;01mfor\u001b[39;00m target \u001b[38;5;129;01min\u001b[39;00m target_nodes:\n\u001b[1;32m     12\u001b[0m         \u001b[38;5;28mprint\u001b[39m(\u001b[38;5;124mf\u001b[39m\u001b[38;5;124m'\u001b[39m\u001b[38;5;124mComputing shortest path between \u001b[39m\u001b[38;5;132;01m{\u001b[39;00mroot\u001b[38;5;132;01m}\u001b[39;00m\u001b[38;5;124m and \u001b[39m\u001b[38;5;132;01m{\u001b[39;00mtarget\u001b[38;5;132;01m}\u001b[39;00m\u001b[38;5;124m'\u001b[39m)\n\u001b[0;32m---> 13\u001b[0m         path \u001b[38;5;241m=\u001b[39m \u001b[43mnx\u001b[49m\u001b[38;5;241;43m.\u001b[39;49m\u001b[43mshortest_path\u001b[49m\u001b[43m(\u001b[49m\u001b[43mG\u001b[49m\u001b[43m,\u001b[49m\u001b[43m \u001b[49m\u001b[43mroot\u001b[49m\u001b[43m,\u001b[49m\u001b[43m \u001b[49m\u001b[43mtarget\u001b[49m\u001b[43m)\u001b[49m\n\u001b[1;32m     14\u001b[0m         nodes_to_keep\u001b[38;5;241m.\u001b[39mextend(path)\n\u001b[1;32m     15\u001b[0m G \u001b[38;5;241m=\u001b[39m G\u001b[38;5;241m.\u001b[39msubgraph(nodes_to_keep)\n",
      "File \u001b[0;32m~/anaconda3/envs/PhD-Track/lib/python3.9/site-packages/networkx/algorithms/shortest_paths/generic.py:165\u001b[0m, in \u001b[0;36mshortest_path\u001b[0;34m(G, source, target, weight, method)\u001b[0m\n\u001b[1;32m    162\u001b[0m \u001b[38;5;28;01melse\u001b[39;00m:\n\u001b[1;32m    163\u001b[0m     \u001b[38;5;66;03m# Find shortest source-target path.\u001b[39;00m\n\u001b[1;32m    164\u001b[0m     \u001b[38;5;28;01mif\u001b[39;00m method \u001b[38;5;241m==\u001b[39m \u001b[38;5;124m\"\u001b[39m\u001b[38;5;124munweighted\u001b[39m\u001b[38;5;124m\"\u001b[39m:\n\u001b[0;32m--> 165\u001b[0m         paths \u001b[38;5;241m=\u001b[39m \u001b[43mnx\u001b[49m\u001b[38;5;241;43m.\u001b[39;49m\u001b[43mbidirectional_shortest_path\u001b[49m\u001b[43m(\u001b[49m\u001b[43mG\u001b[49m\u001b[43m,\u001b[49m\u001b[43m \u001b[49m\u001b[43msource\u001b[49m\u001b[43m,\u001b[49m\u001b[43m \u001b[49m\u001b[43mtarget\u001b[49m\u001b[43m)\u001b[49m\n\u001b[1;32m    166\u001b[0m     \u001b[38;5;28;01melif\u001b[39;00m method \u001b[38;5;241m==\u001b[39m \u001b[38;5;124m\"\u001b[39m\u001b[38;5;124mdijkstra\u001b[39m\u001b[38;5;124m\"\u001b[39m:\n\u001b[1;32m    167\u001b[0m         _, paths \u001b[38;5;241m=\u001b[39m nx\u001b[38;5;241m.\u001b[39mbidirectional_dijkstra(G, source, target, weight)\n",
      "File \u001b[0;32m~/anaconda3/envs/PhD-Track/lib/python3.9/site-packages/networkx/algorithms/shortest_paths/unweighted.py:224\u001b[0m, in \u001b[0;36mbidirectional_shortest_path\u001b[0;34m(G, source, target)\u001b[0m\n\u001b[1;32m    221\u001b[0m     \u001b[38;5;28;01mraise\u001b[39;00m nx\u001b[38;5;241m.\u001b[39mNodeNotFound(msg)\n\u001b[1;32m    223\u001b[0m \u001b[38;5;66;03m# call helper to do the real work\u001b[39;00m\n\u001b[0;32m--> 224\u001b[0m results \u001b[38;5;241m=\u001b[39m \u001b[43m_bidirectional_pred_succ\u001b[49m\u001b[43m(\u001b[49m\u001b[43mG\u001b[49m\u001b[43m,\u001b[49m\u001b[43m \u001b[49m\u001b[43msource\u001b[49m\u001b[43m,\u001b[49m\u001b[43m \u001b[49m\u001b[43mtarget\u001b[49m\u001b[43m)\u001b[49m\n\u001b[1;32m    225\u001b[0m pred, succ, w \u001b[38;5;241m=\u001b[39m results\n\u001b[1;32m    227\u001b[0m \u001b[38;5;66;03m# build path from pred+w+succ\u001b[39;00m\n",
      "File \u001b[0;32m~/anaconda3/envs/PhD-Track/lib/python3.9/site-packages/networkx/algorithms/shortest_paths/unweighted.py:292\u001b[0m, in \u001b[0;36m_bidirectional_pred_succ\u001b[0;34m(G, source, target)\u001b[0m\n\u001b[1;32m    289\u001b[0m                 \u001b[38;5;28;01mif\u001b[39;00m w \u001b[38;5;129;01min\u001b[39;00m pred:  \u001b[38;5;66;03m# found path\u001b[39;00m\n\u001b[1;32m    290\u001b[0m                     \u001b[38;5;28;01mreturn\u001b[39;00m pred, succ, w\n\u001b[0;32m--> 292\u001b[0m \u001b[38;5;28;01mraise\u001b[39;00m nx\u001b[38;5;241m.\u001b[39mNetworkXNoPath(\u001b[38;5;124mf\u001b[39m\u001b[38;5;124m\"\u001b[39m\u001b[38;5;124mNo path between \u001b[39m\u001b[38;5;132;01m{\u001b[39;00msource\u001b[38;5;132;01m}\u001b[39;00m\u001b[38;5;124m and \u001b[39m\u001b[38;5;132;01m{\u001b[39;00mtarget\u001b[38;5;132;01m}\u001b[39;00m\u001b[38;5;124m.\u001b[39m\u001b[38;5;124m\"\u001b[39m)\n",
      "\u001b[0;31mNetworkXNoPath\u001b[0m: No path between n0 and n868."
     ]
    }
   ],
   "source": [
    "import json\n",
    "G = load_random_graph(directory)\n",
    "nb_nodes_before = len(G.nodes)\n",
    "# take all root nodes and the targets, and only keep the nodes that are on the path between them\n",
    "root_nodes = get_root_nodes(G)\n",
    "target_nodes = get_target_nodes(root_nodes, G)\n",
    "print('Root nodes: ', root_nodes)\n",
    "print('Target nodes: ', target_nodes)\n",
    "nodes_to_keep = []\n",
    "for root in root_nodes:\n",
    "    for target in target_nodes:\n",
    "        print(f'Computing shortest path between {root} and {target}')\n",
    "        path = nx.shortest_path(G, root, target)\n",
    "        nodes_to_keep.extend(path)\n",
    "G = G.subgraph(nodes_to_keep)\n",
    "\n",
    "#print number of kept nodes over total number of nodes\n",
    "print('Kept nodes: ', len(nodes_to_keep))\n",
    "print('Total nodes: ', nb_nodes_before)\n",
    "\n",
    "\n",
    "# Convert the graph to a format that Cytoscape.js can understand\n",
    "cytoscape_json = nx.cytoscape_data(G)['elements']\n",
    "\n",
    "# Save the graph data to a JSON file\n",
    "with open('graph_data.json', 'w') as f:\n",
    "    json.dump(cytoscape_json, f)"
   ]
  }
 ],
 "metadata": {
  "kernelspec": {
   "display_name": "PhD-Track",
   "language": "python",
   "name": "python3"
  },
  "language_info": {
   "codemirror_mode": {
    "name": "ipython",
    "version": 3
   },
   "file_extension": ".py",
   "mimetype": "text/x-python",
   "name": "python",
   "nbconvert_exporter": "python",
   "pygments_lexer": "ipython3",
   "version": "3.9.16"
  }
 },
 "nbformat": 4,
 "nbformat_minor": 2
}
