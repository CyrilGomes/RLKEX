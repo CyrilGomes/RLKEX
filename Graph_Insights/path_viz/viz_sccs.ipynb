{
 "cells": [
  {
   "cell_type": "code",
   "execution_count": 1,
   "metadata": {},
   "outputs": [],
   "source": [
    "import networkx as nx\n",
    "from pyvis.network import Network\n",
    "import random\n",
    "import os"
   ]
  },
  {
   "cell_type": "code",
   "execution_count": 41,
   "metadata": {},
   "outputs": [],
   "source": [
    "\n",
    "def load_random_graph(directory):\n",
    "    files = [file for file in os.listdir(directory) if file.endswith('.graphml')] # or other format\n",
    "    random_file = random.choice(files)\n",
    "    path = os.path.join(directory, random_file)\n",
    "    print(f'Loading graph from {path}')\n",
    "    return nx.read_graphml(path)  # Change this according to your graph format\n",
    "\n",
    "def get_root_nodes(G):\n",
    "    return [n for n, d in G.in_degree() if d == 0]\n",
    "\n",
    "def plot_graph_with_sccs(G, sccs):\n",
    "    net = Network(height='750px', width='100%', bgcolor='#222222', font_color='white', notebook=True)\n",
    "\n",
    "    # Add nodes and edges\n",
    "    for node in G.nodes:\n",
    "        net.add_node(node, label=str(node), title=str(node))\n",
    "\n",
    "    for edge in G.edges:\n",
    "        net.add_edge(edge[0], edge[1])\n",
    "\n",
    "    #loop over all sccs, select a unique color for each scc and color the nodes in the scc\n",
    "    colors = ['#'+str(hex(random.randint(0, 16777215)))[2:] for i in range(len(sccs))]\n",
    "    for i, scc in enumerate(sccs):\n",
    "        for node in scc:\n",
    "            net.get_node(node)['color'] = colors[i]\n",
    "            \n",
    "\n",
    "    # Generate network with specific layout\n",
    "    net.from_nx(G)\n",
    "    net.show('graph_viz_sccs.html')\n",
    "\n",
    "def plot_graph_with_roots(G, roots):\n",
    "    net = Network(height='750px', width='100%', bgcolor='#222222', font_color='white', notebook=True)\n",
    "\n",
    "    # Add nodes and edges\n",
    "    for node in G.nodes:\n",
    "        net.add_node(node, label=str(node), title=str(node))\n",
    "\n",
    "    for edge in G.edges:\n",
    "        net.add_edge(edge[0], edge[1])\n",
    "\n",
    "    for node in roots:\n",
    "        net.get_node(node)['color'] = 'red'\n",
    "            \n",
    "\n",
    "    # Generate network with specific layout\n",
    "    net.from_nx(G)\n",
    "    net.show('graph_viz_sccs.html')\n",
    "\n",
    "def get_target_nodes(root, G):\n",
    "    target_nodes = [node for node, attributes in G.nodes(data=True) if attributes['cat'] == '1']\n",
    "    return target_nodes\n",
    "\n",
    "\n",
    "\n"
   ]
  },
  {
   "cell_type": "code",
   "execution_count": 53,
   "metadata": {},
   "outputs": [
    {
     "name": "stdout",
     "output_type": "stream",
     "text": [
      "Loading graph from /home/cyril/ssh-rlkex/Generated_Graphs/output/basic/V_6_8_P1/24/26398-1643890740.graphml\n"
     ]
    }
   ],
   "source": [
    "directory = '/home/cyril/ssh-rlkex/Generated_Graphs/output/basic/V_6_8_P1/24'\n",
    "G = load_random_graph(directory)\n",
    "\n",
    "#compute all sccs\n",
    "sccs = list(nx.strongly_connected_components(G))\n",
    "\n"
   ]
  },
  {
   "cell_type": "code",
   "execution_count": 54,
   "metadata": {},
   "outputs": [
    {
     "name": "stdout",
     "output_type": "stream",
     "text": [
      "Cycles detected\n"
     ]
    }
   ],
   "source": [
    "#Detect if there are any cycles\n",
    "if len(sccs) == len(G.nodes):\n",
    "    print(\"No cycles detected\")\n",
    "else:\n",
    "    print(\"Cycles detected\")"
   ]
  },
  {
   "cell_type": "code",
   "execution_count": 55,
   "metadata": {},
   "outputs": [
    {
     "name": "stdout",
     "output_type": "stream",
     "text": [
      "Number of nodes in the graph: 2770\n",
      "Number of nodes in the sccs: 2770\n",
      "Number of SCCs: 2659\n"
     ]
    }
   ],
   "source": [
    "#Compare the number of nodes in the sccs with the number of nodes in the graph\n",
    "scc_nodes = [node for scc in sccs for node in scc]\n",
    "print(f'Number of nodes in the graph: {len(G.nodes)}')\n",
    "print(f'Number of nodes in the sccs: {len(scc_nodes)}')\n",
    "print(f'Number of SCCs: {len(sccs)}')"
   ]
  },
  {
   "cell_type": "code",
   "execution_count": 56,
   "metadata": {},
   "outputs": [
    {
     "name": "stdout",
     "output_type": "stream",
     "text": [
      "['n50', 'n1336', 'n1338', 'n1339', 'n1342', 'n1345', 'n1347', 'n1349', 'n1352', 'n1354', 'n1357', 'n1360', 'n1367', 'n1370', 'n1373', 'n1375', 'n1378', 'n1380', 'n1382', 'n1385', 'n1389', 'n1393', 'n1401', 'n1404', 'n1407', 'n1409', 'n1411', 'n1861', 'n1923', 'n1925', 'n1926', 'n1928', 'n1931', 'n1934', 'n1942', 'n1963', 'n2014', 'n2021', 'n2027', 'n2037', 'n2067', 'n2069', 'n2072', 'n2073', 'n2074', 'n2076', 'n2130', 'n2131', 'n2132', 'n2133', 'n2134', 'n2135', 'n2136', 'n2137', 'n2213', 'n2214', 'n2221', 'n2414', 'n2449', 'n2450', 'n2451', 'n2452', 'n2453', 'n2611']\n",
      "Warning: When  cdn_resources is 'local' jupyter notebook has issues displaying graphics on chrome/safari. Use cdn_resources='in_line' or cdn_resources='remote' if you have issues viewing graphics in a notebook.\n",
      "graph_viz_sccs.html\n"
     ]
    }
   ],
   "source": [
    "#For each scc, check if it contains a node with no incoming edges to the scc\n",
    "#this node is the root node of the scc\n",
    "\n",
    "def get_root_nodes_from_scc(sccs, G):\n",
    "    \"\"\"If we consider each scc as a node, then we want to get the sccs that have no incoming edges.\"\"\"\n",
    "    root_nodes = []\n",
    "    for scc in sccs:\n",
    "        for node in scc:\n",
    "            if len([n for n in G.predecessors(node) if n not in scc]) == 0:\n",
    "                #append the first node of the scc that has no incoming edges\n",
    "                #transform the scc to list\n",
    "                scc = list(scc)\n",
    "                root_nodes.append(scc[0])\n",
    "                break\n",
    "    return root_nodes\n",
    "\n",
    "root_nodes = get_root_nodes_from_scc(sccs, G)\n",
    "print(root_nodes)\n",
    "plot_graph_with_roots(G, root_nodes)"
   ]
  },
  {
   "cell_type": "code",
   "execution_count": 58,
   "metadata": {},
   "outputs": [
    {
     "name": "stdout",
     "output_type": "stream",
     "text": [
      "Number of reachable nodes: 2770\n",
      "Number of nodes in the graph: 2770\n"
     ]
    }
   ],
   "source": [
    "#Loop over all root nodes and make sure that every possible nodes from the graph, not just targets, is reachable from at least one root node\n",
    "#If there is a node that is not reachable from any root node, then there is a problem\n",
    "\n",
    "nb_of_reachable_nodes = 0\n",
    "\n",
    "#loop over all roots, do a bfs from each root and mark all visited nodes, then sum the number of visited nodes\n",
    "visited_nodes = {}\n",
    "for root in root_nodes:\n",
    "    visited_nodes[root] = True\n",
    "    for node in nx.bfs_tree(G, root).nodes:\n",
    "        visited_nodes[node] = True\n",
    "\n",
    "nb_of_reachable_nodes = len(visited_nodes)\n",
    "print(f'Number of reachable nodes: {nb_of_reachable_nodes}')\n",
    "print(f'Number of nodes in the graph: {len(G.nodes)}')\n"
   ]
  },
  {
   "cell_type": "code",
   "execution_count": 40,
   "metadata": {},
   "outputs": [
    {
     "name": "stdout",
     "output_type": "stream",
     "text": [
      "Warning: When  cdn_resources is 'local' jupyter notebook has issues displaying graphics on chrome/safari. Use cdn_resources='in_line' or cdn_resources='remote' if you have issues viewing graphics in a notebook.\n",
      "graph_viz_sccs.html\n"
     ]
    }
   ],
   "source": [
    "plot_graph_with_sccs(G, sccs)"
   ]
  },
  {
   "cell_type": "code",
   "execution_count": null,
   "metadata": {},
   "outputs": [],
   "source": [
    "import json\n",
    "G = load_random_graph(directory)\n",
    "nb_nodes_before = len(G.nodes)\n",
    "# take all root nodes and the targets, and only keep the nodes that are on the path between them\n",
    "root_nodes = get_root_nodes(G)\n",
    "target_nodes = get_target_nodes(root_nodes, G)\n",
    "print('Root nodes: ', root_nodes)\n",
    "print('Target nodes: ', target_nodes)\n",
    "nodes_to_keep = []\n",
    "for root in root_nodes:\n",
    "    for target in target_nodes:\n",
    "        print(f'Computing shortest path between {root} and {target}')\n",
    "        path = nx.shortest_path(G, root, target)\n",
    "        nodes_to_keep.extend(path)\n",
    "G = G.subgraph(nodes_to_keep)\n",
    "\n",
    "#print number of kept nodes over total number of nodes\n",
    "print('Kept nodes: ', len(nodes_to_keep))\n",
    "print('Total nodes: ', nb_nodes_before)\n",
    "\n",
    "\n",
    "# Convert the graph to a format that Cytoscape.js can understand\n",
    "cytoscape_json = nx.cytoscape_data(G)['elements']\n",
    "\n",
    "# Save the graph data to a JSON file\n",
    "with open('graph_data.json', 'w') as f:\n",
    "    json.dump(cytoscape_json, f)"
   ]
  }
 ],
 "metadata": {
  "kernelspec": {
   "display_name": "PhD-Track",
   "language": "python",
   "name": "python3"
  },
  "language_info": {
   "codemirror_mode": {
    "name": "ipython",
    "version": 3
   },
   "file_extension": ".py",
   "mimetype": "text/x-python",
   "name": "python",
   "nbconvert_exporter": "python",
   "pygments_lexer": "ipython3",
   "version": "3.9.16"
  }
 },
 "nbformat": 4,
 "nbformat_minor": 2
}
