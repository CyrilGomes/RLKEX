{
 "cells": [
  {
   "cell_type": "code",
   "execution_count": 1,
   "metadata": {},
   "outputs": [],
   "source": [
    "import networkx as nx\n",
    "from pyvis.network import Network\n",
    "import random\n",
    "import os\n"
   ]
  },
  {
   "cell_type": "code",
   "execution_count": 14,
   "metadata": {},
   "outputs": [],
   "source": [
    "\n",
    "def load_random_graph(directory):\n",
    "    files = [file for file in os.listdir(directory) if file.endswith('.graphml')] # or other format\n",
    "    random_file = random.choice(files)\n",
    "    path = os.path.join(directory, random_file)\n",
    "    return nx.read_graphml(path)  # Change this according to your graph format\n",
    "\n",
    "def get_root_nodes(G):\n",
    "    return [n for n, d in G.in_degree() if d == 0]\n",
    "\n",
    "\n",
    "def get_target_nodes(root, G):\n",
    "    target_nodes = [node for node, attributes in G.nodes(data=True) if attributes['cat'] == '1']\n",
    "    return target_nodes\n",
    "    \n",
    "\n"
   ]
  },
  {
   "cell_type": "code",
   "execution_count": 31,
   "metadata": {},
   "outputs": [
    {
     "ename": "Exception",
     "evalue": "No root node that has a path to all target nodes",
     "output_type": "error",
     "traceback": [
      "\u001b[0;31m---------------------------------------------------------------------------\u001b[0m",
      "\u001b[0;31mException\u001b[0m                                 Traceback (most recent call last)",
      "Cell \u001b[0;32mIn[31], line 18\u001b[0m\n\u001b[1;32m     13\u001b[0m             best_root_nodes\u001b[38;5;241m.\u001b[39mappend(root)\n\u001b[1;32m     17\u001b[0m \u001b[38;5;28;01mif\u001b[39;00m best_root_nodes \u001b[38;5;241m==\u001b[39m []:\n\u001b[0;32m---> 18\u001b[0m     \u001b[38;5;28;01mraise\u001b[39;00m \u001b[38;5;167;01mException\u001b[39;00m(\u001b[38;5;124m'\u001b[39m\u001b[38;5;124mNo root node that has a path to all target nodes\u001b[39m\u001b[38;5;124m'\u001b[39m)\n\u001b[1;32m     19\u001b[0m \u001b[38;5;66;03m#get the subgraph that follows the path from the root node, we can use BFS\u001b[39;00m\n\u001b[1;32m     20\u001b[0m \n\u001b[1;32m     21\u001b[0m \u001b[38;5;66;03m#get all the bgs subgraphs and then combine them\u001b[39;00m\n\u001b[1;32m     22\u001b[0m sugraphs \u001b[38;5;241m=\u001b[39m []\n",
      "\u001b[0;31mException\u001b[0m: No root node that has a path to all target nodes"
     ]
    }
   ],
   "source": [
    "directory = '/home/cyril/ssh-rlkex/Generated_Graphs/output/basic/V_6_8_P1/24'\n",
    "G = load_random_graph(directory)\n",
    "root_nodes = get_root_nodes(G)\n",
    "target_nodes = get_target_nodes(root_nodes, G)\n",
    "\n",
    "\n",
    "#get the root node that has a path to at least a  target nodes\n",
    "best_root_nodes = []\n",
    "\n",
    "for root in root_nodes:\n",
    "    for target in target_nodes:\n",
    "        if nx.has_path(G, root, target):\n",
    "            best_root_nodes.append(root)\n",
    "         \n",
    "\n",
    "\n",
    "if best_root_nodes == []:\n",
    "    raise Exception('No root node that has a path to all target nodes')\n",
    "#get the subgraph that follows the path from the root node, we can use BFS\n",
    "\n",
    "#get all the bgs subgraphs and then combine them\n",
    "sugraphs = []\n",
    "for root_node in best_root_nodes:\n",
    "    subgraph = nx.bfs_tree(G, root_node)\n",
    "    sugraphs.append(subgraph)\n",
    "\n",
    "print(len(subgraph.nodes))\n",
    "#visualize the subgraph, the root node is red, the target nodes are green\n",
    "#the edges from the root node to the target nodes are blue\n",
    "net = Network(notebook=True)\n",
    "net.from_nx(subgraph)\n",
    "\n",
    "for node in net.nodes:\n",
    "    if node['id'] in best_root_nodes:\n",
    "        node['color'] = 'red'\n",
    "    elif node['id'] in target_nodes:\n",
    "        node['color'] = 'green'\n",
    "    else:\n",
    "        node['color'] = 'gray'\n",
    "\n",
    "# Get paths from each root node to target nodes\n",
    "for root_node in best_root_nodes:\n",
    "    for target in target_nodes:\n",
    "        if nx.has_path(G, root_node, target):\n",
    "            path = nx.shortest_path(G, root_node, target)\n",
    "            # Color the edges in the path\n",
    "            for i in range(len(path) - 1):\n",
    "                from_node, to_node = path[i], path[i + 1]\n",
    "                # Find and color the edge\n",
    "                for edge in net.edges:\n",
    "                    if edge['from'] == from_node and edge['to'] == to_node:\n",
    "                        edge['color'] = 'blue'\n",
    "                        break\n",
    "\n",
    "net.show_buttons(filter_=['physics'])\n",
    "net.show('subgraph.html', notebook=True)\n",
    "\n",
    "\n",
    " \n"
   ]
  }
 ],
 "metadata": {
  "kernelspec": {
   "display_name": "PhD-Track",
   "language": "python",
   "name": "python3"
  },
  "language_info": {
   "codemirror_mode": {
    "name": "ipython",
    "version": 3
   },
   "file_extension": ".py",
   "mimetype": "text/x-python",
   "name": "python",
   "nbconvert_exporter": "python",
   "pygments_lexer": "ipython3",
   "version": "3.9.16"
  }
 },
 "nbformat": 4,
 "nbformat_minor": 2
}
